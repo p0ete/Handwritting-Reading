{
 "cells": [
  {
   "cell_type": "code",
   "execution_count": 22,
   "metadata": {},
   "outputs": [
    {
     "name": "stdout",
     "output_type": "stream",
     "text": [
      "The autoreload extension is already loaded. To reload it, use:\n",
      "  %reload_ext autoreload\n"
     ]
    }
   ],
   "source": [
    "%load_ext autoreload\n",
    "%autoreload 2\n",
    "#import os\n",
    "#import cv2\n",
    "#import matplotlib.pyplot as plt    \n",
    "#import json\n",
    "#import math\n",
    "#import numpy as np\n",
    "#from myFunctions import *\n",
    "#import random\n",
    "#import CRNN.myModel as CRNN\n",
    "#\n",
    "#from keras.models import model_from_json\n",
    "#import tensorflow as tf\n",
    "#import gc\n",
    "\n",
    "from EAST.for_detect import *\n",
    "from predict import *"
   ]
  },
  {
   "cell_type": "code",
   "execution_count": 33,
   "metadata": {},
   "outputs": [
    {
     "name": "stdout",
     "output_type": "stream",
     "text": [
      "Find 1 images\n",
      "8936 text boxes before nms\n"
     ]
    }
   ],
   "source": [
    "img_list = get_test_images(\"./data/test/images\")\n",
    "img_file = img_list[0]\n",
    "whole_image = cv2.imread(img_file)[:, :, ::-1]\n",
    "\n",
    "rects = predict_boxes(whole_image)\n",
    "text = translate(whole_image, rects)"
   ]
  },
  {
   "cell_type": "code",
   "execution_count": 34,
   "metadata": {},
   "outputs": [],
   "source": [
    "draw_rects(whole_image, rects)"
   ]
  },
  {
   "cell_type": "code",
   "execution_count": 35,
   "metadata": {},
   "outputs": [
    {
     "data": {
      "text/plain": [
       "['us n ',\n",
       " 'dloici. disait l que le semeur est sorti pour ',\n",
       " 'semer. EEt comme el semait. uy des grains sont ',\n",
       " 'toubés au bord du chemin. et les oiseaux. ',\n",
       " 'étant venus, ont tout mangé. DSi autres sont ',\n",
       " 'tombés sur des endroits pierreul, ouù ',\n",
       " 'pas beacon de tere, et anssitôt rls ont chnavaient levé ',\n",
       " \"parce qu'il avaient pas C profondeur de tevre. \",\n",
       " \"mais. le soleil s'étant levé, ls ont eté blés \",\n",
       " 'et faute de racin, ll se sonrt desséches Ô autres ',\n",
       " 'Sout toubés. sur les épines, et les éoines ont ',\n",
       " 'monté et les ont etonfhés. Mais d autres sont omsés ',\n",
       " 'sur de la bonne térre et ls ont donné du fruit, ',\n",
       " \"a l'un cent, l auntre Soi irante l autre trante. \",\n",
       " 'Entende qu a des oreiles! ',\n",
       " \"Et, 'avançant les disciples lui dirent Furquoi \",\n",
       " 'ceur parles tu en paraboles re » Et, népondant il ',\n",
       " 'dit  « Parce qu a vous 1a elle donné de connaihe ',\n",
       " 'les mpsleres du Moyanne des Cieux masà ceutls ',\n",
       " \"n'a pas oté donné. Car quiconque a on lui \",\n",
       " 'donnera et l aura en enabondancs mail ',\n",
       " 'Qquiconque n a pas, même ce qu il a lui sera ',\n",
       " 'enlevé. Moilà pourquor Ô je leur parle en paraboles ',\n",
       " \"parce qu 'ls voient sans vour et q ls entondent \",\n",
       " 'sans entendre. Et pour eux acconolit la ',\n",
       " 'promesse d bfaie qu dit: Vous serez l Tout orerlles ',\n",
       " 'et ne omrendrer l pas 1 vous regardenez 2l de tont ',\n",
       " 'vos yeux et vous ne verrer, l pas, car le coœur ',\n",
       " \"de peuple s'est épaiii, ls sont devenns durs \"]"
      ]
     },
     "execution_count": 35,
     "metadata": {},
     "output_type": "execute_result"
    }
   ],
   "source": [
    "text"
   ]
  },
  {
   "cell_type": "code",
   "execution_count": null,
   "metadata": {},
   "outputs": [],
   "source": []
  }
 ],
 "metadata": {
  "kernelspec": {
   "display_name": "Python 3",
   "language": "python",
   "name": "python3"
  },
  "language_info": {
   "codemirror_mode": {
    "name": "ipython",
    "version": 3
   },
   "file_extension": ".py",
   "mimetype": "text/x-python",
   "name": "python",
   "nbconvert_exporter": "python",
   "pygments_lexer": "ipython3",
   "version": "3.6.6"
  }
 },
 "nbformat": 4,
 "nbformat_minor": 2
}
