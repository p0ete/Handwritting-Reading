{
 "cells": [
  {
   "cell_type": "code",
   "execution_count": 1,
   "metadata": {},
   "outputs": [
    {
     "name": "stderr",
     "output_type": "stream",
     "text": [
      "Using TensorFlow backend.\n"
     ]
    }
   ],
   "source": [
    "%load_ext autoreload\n",
    "%autoreload 2\n",
    "from myModel import *\n"
   ]
  },
  {
   "cell_type": "markdown",
   "metadata": {},
   "source": [
    "## Initialize the GPU"
   ]
  },
  {
   "cell_type": "code",
   "execution_count": 2,
   "metadata": {},
   "outputs": [],
   "source": [
    "config = tf.ConfigProto()\n",
    "config.gpu_options.allow_growth = True\n",
    "session = tf.Session(config=config)"
   ]
  },
  {
   "cell_type": "markdown",
   "metadata": {},
   "source": [
    "## Load the images IDs and their respective labels"
   ]
  },
  {
   "cell_type": "code",
   "execution_count": 3,
   "metadata": {},
   "outputs": [
    {
     "name": "stdout",
     "output_type": "stream",
     "text": [
      "There are 175280 words in total.\n"
     ]
    }
   ],
   "source": [
    "id_list = []\n",
    "for file in os.listdir(FOLDER_IMG):\n",
    "    if file[-4:] == \".png\":\n",
    "        id = file[:-4]\n",
    "        id_list.append(id)\n",
    "        img = cv2.imread(FOLDER_IMG + file, 0)\n",
    "        img_shape = img.shape\n",
    "        \n",
    "my_labs = {}\n",
    "with open(LABEL_FILE) as f:\n",
    "    content = f.readlines()\n",
    "    for line in content:\n",
    "        line = line.replace('\\n', '')\n",
    "        id = line.split(' ')[0]\n",
    "        lab = line.split(' ')[1]\n",
    "        my_labs[id] = lab\n",
    "\n",
    "print(\"There are \" + str(len(id_list)) + \" words in total.\")"
   ]
  },
  {
   "cell_type": "markdown",
   "metadata": {},
   "source": [
    "## Load the model"
   ]
  },
  {
   "cell_type": "code",
   "execution_count": 4,
   "metadata": {},
   "outputs": [],
   "source": [
    "model, y_pred, inputs = get_Model(True)\n",
    "\n",
    "ada = Adadelta()\n",
    "model.compile(loss={'ctc': lambda y_true, y_pred: y_pred}, optimizer=ada)\n"
   ]
  },
  {
   "cell_type": "code",
   "execution_count": 5,
   "metadata": {},
   "outputs": [],
   "source": [
    "model.load_weights(OUTPUT_DIR +\"weights.h5\")"
   ]
  },
  {
   "cell_type": "markdown",
   "metadata": {},
   "source": [
    "## Train"
   ]
  },
  {
   "cell_type": "code",
   "execution_count": 6,
   "metadata": {},
   "outputs": [
    {
     "name": "stdout",
     "output_type": "stream",
     "text": [
      "All letters in the labels are contained in the alphabet.\n"
     ]
    }
   ],
   "source": [
    "if len(check_alphabet(alphabet, my_labs)) == 0:\n",
    "    print(\"All letters in the labels are contained in the alphabet.\")\n",
    "else:\n",
    "    print(\"The letters \" + str(check_alphabet(alphabet, my_labs))+ \" are in the labels but not in the alphabet.\")"
   ]
  },
  {
   "cell_type": "code",
   "execution_count": 7,
   "metadata": {},
   "outputs": [
    {
     "name": "stdout",
     "output_type": "stream",
     "text": [
      "12800  Image Loading start...\n",
      " Image Loading finish...\n",
      "Epoch 1/50\n",
      "200/200 [==============================] - 229s 1s/step - loss: 0.1813 - val_loss: 0.1252\n",
      "\n",
      "Out of 256 samples:  Mean edit distance:0.047 Mean normalized edit distance: 0.006\n",
      "Epoch 2/50\n",
      "200/200 [==============================] - 221s 1s/step - loss: 0.0291 - val_loss: 0.0597\n",
      "\n",
      "Out of 256 samples:  Mean edit distance:0.016 Mean normalized edit distance: 0.002\n",
      "Epoch 3/50\n",
      "200/200 [==============================] - 225s 1s/step - loss: 0.0080 - val_loss: 0.0523\n",
      "\n",
      "Out of 256 samples:  Mean edit distance:0.020 Mean normalized edit distance: 0.003\n",
      "Epoch 4/50\n",
      "200/200 [==============================] - 220s 1s/step - loss: 0.0031 - val_loss: 0.0468\n",
      "\n",
      "Out of 256 samples:  Mean edit distance:0.012 Mean normalized edit distance: 0.005\n",
      "Epoch 5/50\n",
      "200/200 [==============================] - 220s 1s/step - loss: 0.0023 - val_loss: 0.0430\n",
      "\n",
      "Out of 256 samples:  Mean edit distance:0.016 Mean normalized edit distance: 0.002\n",
      "Epoch 6/50\n",
      "200/200 [==============================] - 222s 1s/step - loss: 0.0014 - val_loss: 0.0342\n",
      "\n",
      "Out of 256 samples:  Mean edit distance:0.008 Mean normalized edit distance: 0.001\n",
      "Epoch 7/50\n",
      "200/200 [==============================] - 224s 1s/step - loss: 0.0012 - val_loss: 0.0376\n",
      "\n",
      "Out of 256 samples:  Mean edit distance:0.008 Mean normalized edit distance: 0.001\n",
      "Epoch 8/50\n",
      "200/200 [==============================] - 224s 1s/step - loss: 0.0011 - val_loss: 0.0425\n",
      "\n",
      "Out of 256 samples:  Mean edit distance:0.012 Mean normalized edit distance: 0.001\n",
      "Epoch 9/50\n",
      "200/200 [==============================] - 222s 1s/step - loss: 0.0011 - val_loss: 0.0382\n",
      "\n",
      "Out of 256 samples:  Mean edit distance:0.016 Mean normalized edit distance: 0.003\n",
      "Epoch 10/50\n",
      "200/200 [==============================] - 217s 1s/step - loss: 0.0010 - val_loss: 0.0472\n",
      "\n",
      "Out of 256 samples:  Mean edit distance:0.016 Mean normalized edit distance: 0.002\n",
      "Epoch 11/50\n",
      "200/200 [==============================] - 217s 1s/step - loss: 9.7943e-04 - val_loss: 0.0407\n",
      "\n",
      "Out of 256 samples:  Mean edit distance:0.012 Mean normalized edit distance: 0.001\n",
      "Epoch 12/50\n",
      "200/200 [==============================] - 217s 1s/step - loss: 9.5365e-04 - val_loss: 0.0323\n",
      "\n",
      "Out of 256 samples:  Mean edit distance:0.023 Mean normalized edit distance: 0.006\n",
      "Epoch 13/50\n",
      "200/200 [==============================] - 217s 1s/step - loss: 9.2380e-04 - val_loss: 0.0422\n",
      "\n",
      "Out of 256 samples:  Mean edit distance:0.012 Mean normalized edit distance: 0.002\n",
      "Epoch 14/50\n",
      "200/200 [==============================] - 217s 1s/step - loss: 9.0251e-04 - val_loss: 0.0411\n",
      "\n",
      "Out of 256 samples:  Mean edit distance:0.008 Mean normalized edit distance: 0.002\n",
      "Epoch 15/50\n",
      "200/200 [==============================] - 217s 1s/step - loss: 8.8739e-04 - val_loss: 0.0433\n",
      "\n",
      "Out of 256 samples:  Mean edit distance:0.016 Mean normalized edit distance: 0.002\n",
      "Epoch 16/50\n",
      "200/200 [==============================] - 217s 1s/step - loss: 8.7404e-04 - val_loss: 0.0356\n",
      "\n",
      "Out of 256 samples:  Mean edit distance:0.012 Mean normalized edit distance: 0.001\n",
      "Epoch 17/50\n",
      "200/200 [==============================] - 217s 1s/step - loss: 8.6022e-04 - val_loss: 0.0482\n",
      "\n",
      "Out of 256 samples:  Mean edit distance:0.012 Mean normalized edit distance: 0.002\n",
      "Epoch 18/50\n",
      "200/200 [==============================] - 217s 1s/step - loss: 8.4755e-04 - val_loss: 0.0392\n",
      "\n",
      "Out of 256 samples:  Mean edit distance:0.008 Mean normalized edit distance: 0.002\n",
      "Epoch 19/50\n",
      "200/200 [==============================] - 217s 1s/step - loss: 8.3824e-04 - val_loss: 0.0436\n",
      "\n",
      "Out of 256 samples:  Mean edit distance:0.008 Mean normalized edit distance: 0.001\n",
      "Epoch 20/50\n",
      "200/200 [==============================] - 217s 1s/step - loss: 8.3035e-04 - val_loss: 0.0469\n",
      "\n",
      "Out of 256 samples:  Mean edit distance:0.016 Mean normalized edit distance: 0.002\n",
      "Epoch 21/50\n",
      "200/200 [==============================] - 217s 1s/step - loss: 8.2216e-04 - val_loss: 0.0413\n",
      "\n",
      "Out of 256 samples:  Mean edit distance:0.008 Mean normalized edit distance: 0.001\n",
      "Epoch 22/50\n",
      "200/200 [==============================] - 217s 1s/step - loss: 8.1326e-04 - val_loss: 0.0468\n",
      "\n",
      "Out of 256 samples:  Mean edit distance:0.027 Mean normalized edit distance: 0.003\n",
      "Epoch 23/50\n",
      "200/200 [==============================] - 217s 1s/step - loss: 8.0695e-04 - val_loss: 0.0408\n",
      "\n",
      "Out of 256 samples:  Mean edit distance:0.004 Mean normalized edit distance: 0.000\n",
      "Epoch 24/50\n",
      "200/200 [==============================] - 217s 1s/step - loss: 7.9995e-04 - val_loss: 0.0402\n",
      "\n",
      "Out of 256 samples:  Mean edit distance:0.023 Mean normalized edit distance: 0.004\n",
      "Epoch 25/50\n",
      "200/200 [==============================] - 217s 1s/step - loss: 7.9144e-04 - val_loss: 0.0373\n",
      "\n",
      "Out of 256 samples:  Mean edit distance:0.004 Mean normalized edit distance: 0.000\n",
      "Epoch 26/50\n",
      "200/200 [==============================] - 217s 1s/step - loss: 7.8674e-04 - val_loss: 0.0413\n",
      "\n",
      "Out of 256 samples:  Mean edit distance:0.008 Mean normalized edit distance: 0.001\n",
      "Epoch 27/50\n",
      "200/200 [==============================] - 217s 1s/step - loss: 7.8075e-04 - val_loss: 0.0451\n",
      "\n",
      "Out of 256 samples:  Mean edit distance:0.004 Mean normalized edit distance: 0.000\n",
      "Epoch 28/50\n",
      "200/200 [==============================] - 217s 1s/step - loss: 7.7595e-04 - val_loss: 0.0431\n",
      "\n",
      "Out of 256 samples:  Mean edit distance:0.039 Mean normalized edit distance: 0.005\n",
      "Epoch 29/50\n",
      "200/200 [==============================] - 217s 1s/step - loss: 7.7294e-04 - val_loss: 0.0375\n",
      "\n",
      "Out of 256 samples:  Mean edit distance:0.008 Mean normalized edit distance: 0.001\n",
      "Epoch 30/50\n",
      " 30/200 [===>..........................] - ETA: 2:49 - loss: 7.6523e-04"
     ]
    },
    {
     "ename": "KeyboardInterrupt",
     "evalue": "",
     "output_type": "error",
     "traceback": [
      "\u001b[0;31m---------------------------------------------------------------------------\u001b[0m",
      "\u001b[0;31mKeyboardInterrupt\u001b[0m                         Traceback (most recent call last)",
      "\u001b[0;32m<ipython-input-7-a85dea8e8291>\u001b[0m in \u001b[0;36m<module>\u001b[0;34m\u001b[0m\n\u001b[1;32m     12\u001b[0m                         \u001b[0mcallbacks\u001b[0m\u001b[0;34m=\u001b[0m\u001b[0;34m[\u001b[0m\u001b[0mviz_cb\u001b[0m\u001b[0;34m]\u001b[0m\u001b[0;34m,\u001b[0m\u001b[0;34m\u001b[0m\u001b[0;34m\u001b[0m\u001b[0m\n\u001b[1;32m     13\u001b[0m                         \u001b[0mvalidation_data\u001b[0m\u001b[0;34m=\u001b[0m\u001b[0mgenerator\u001b[0m\u001b[0;34m.\u001b[0m\u001b[0mnext_batch_val\u001b[0m\u001b[0;34m(\u001b[0m\u001b[0;34m)\u001b[0m\u001b[0;34m,\u001b[0m\u001b[0;34m\u001b[0m\u001b[0;34m\u001b[0m\u001b[0m\n\u001b[0;32m---> 14\u001b[0;31m                         validation_steps=int(generator.n_val / BATCH_SIZE))\n\u001b[0m\u001b[1;32m     15\u001b[0m \u001b[0;34m\u001b[0m\u001b[0m\n\u001b[1;32m     16\u001b[0m     \u001b[0;32mdel\u001b[0m \u001b[0mgenerator\u001b[0m\u001b[0;34m\u001b[0m\u001b[0;34m\u001b[0m\u001b[0m\n",
      "\u001b[0;32m~/anaconda3/envs/AIconda/lib/python3.6/site-packages/keras/legacy/interfaces.py\u001b[0m in \u001b[0;36mwrapper\u001b[0;34m(*args, **kwargs)\u001b[0m\n\u001b[1;32m     89\u001b[0m                 warnings.warn('Update your `' + object_name +\n\u001b[1;32m     90\u001b[0m                               '` call to the Keras 2 API: ' + signature, stacklevel=2)\n\u001b[0;32m---> 91\u001b[0;31m             \u001b[0;32mreturn\u001b[0m \u001b[0mfunc\u001b[0m\u001b[0;34m(\u001b[0m\u001b[0;34m*\u001b[0m\u001b[0margs\u001b[0m\u001b[0;34m,\u001b[0m \u001b[0;34m**\u001b[0m\u001b[0mkwargs\u001b[0m\u001b[0;34m)\u001b[0m\u001b[0;34m\u001b[0m\u001b[0;34m\u001b[0m\u001b[0m\n\u001b[0m\u001b[1;32m     92\u001b[0m         \u001b[0mwrapper\u001b[0m\u001b[0;34m.\u001b[0m\u001b[0m_original_function\u001b[0m \u001b[0;34m=\u001b[0m \u001b[0mfunc\u001b[0m\u001b[0;34m\u001b[0m\u001b[0;34m\u001b[0m\u001b[0m\n\u001b[1;32m     93\u001b[0m         \u001b[0;32mreturn\u001b[0m \u001b[0mwrapper\u001b[0m\u001b[0;34m\u001b[0m\u001b[0;34m\u001b[0m\u001b[0m\n",
      "\u001b[0;32m~/anaconda3/envs/AIconda/lib/python3.6/site-packages/keras/engine/training.py\u001b[0m in \u001b[0;36mfit_generator\u001b[0;34m(self, generator, steps_per_epoch, epochs, verbose, callbacks, validation_data, validation_steps, class_weight, max_queue_size, workers, use_multiprocessing, shuffle, initial_epoch)\u001b[0m\n\u001b[1;32m   2228\u001b[0m                     outs = self.train_on_batch(x, y,\n\u001b[1;32m   2229\u001b[0m                                                \u001b[0msample_weight\u001b[0m\u001b[0;34m=\u001b[0m\u001b[0msample_weight\u001b[0m\u001b[0;34m,\u001b[0m\u001b[0;34m\u001b[0m\u001b[0;34m\u001b[0m\u001b[0m\n\u001b[0;32m-> 2230\u001b[0;31m                                                class_weight=class_weight)\n\u001b[0m\u001b[1;32m   2231\u001b[0m \u001b[0;34m\u001b[0m\u001b[0m\n\u001b[1;32m   2232\u001b[0m                     \u001b[0;32mif\u001b[0m \u001b[0;32mnot\u001b[0m \u001b[0misinstance\u001b[0m\u001b[0;34m(\u001b[0m\u001b[0mouts\u001b[0m\u001b[0;34m,\u001b[0m \u001b[0mlist\u001b[0m\u001b[0;34m)\u001b[0m\u001b[0;34m:\u001b[0m\u001b[0;34m\u001b[0m\u001b[0;34m\u001b[0m\u001b[0m\n",
      "\u001b[0;32m~/anaconda3/envs/AIconda/lib/python3.6/site-packages/keras/engine/training.py\u001b[0m in \u001b[0;36mtrain_on_batch\u001b[0;34m(self, x, y, sample_weight, class_weight)\u001b[0m\n\u001b[1;32m   1881\u001b[0m             \u001b[0mins\u001b[0m \u001b[0;34m=\u001b[0m \u001b[0mx\u001b[0m \u001b[0;34m+\u001b[0m \u001b[0my\u001b[0m \u001b[0;34m+\u001b[0m \u001b[0msample_weights\u001b[0m\u001b[0;34m\u001b[0m\u001b[0;34m\u001b[0m\u001b[0m\n\u001b[1;32m   1882\u001b[0m         \u001b[0mself\u001b[0m\u001b[0;34m.\u001b[0m\u001b[0m_make_train_function\u001b[0m\u001b[0;34m(\u001b[0m\u001b[0;34m)\u001b[0m\u001b[0;34m\u001b[0m\u001b[0;34m\u001b[0m\u001b[0m\n\u001b[0;32m-> 1883\u001b[0;31m         \u001b[0moutputs\u001b[0m \u001b[0;34m=\u001b[0m \u001b[0mself\u001b[0m\u001b[0;34m.\u001b[0m\u001b[0mtrain_function\u001b[0m\u001b[0;34m(\u001b[0m\u001b[0mins\u001b[0m\u001b[0;34m)\u001b[0m\u001b[0;34m\u001b[0m\u001b[0;34m\u001b[0m\u001b[0m\n\u001b[0m\u001b[1;32m   1884\u001b[0m         \u001b[0;32mif\u001b[0m \u001b[0mlen\u001b[0m\u001b[0;34m(\u001b[0m\u001b[0moutputs\u001b[0m\u001b[0;34m)\u001b[0m \u001b[0;34m==\u001b[0m \u001b[0;36m1\u001b[0m\u001b[0;34m:\u001b[0m\u001b[0;34m\u001b[0m\u001b[0;34m\u001b[0m\u001b[0m\n\u001b[1;32m   1885\u001b[0m             \u001b[0;32mreturn\u001b[0m \u001b[0moutputs\u001b[0m\u001b[0;34m[\u001b[0m\u001b[0;36m0\u001b[0m\u001b[0;34m]\u001b[0m\u001b[0;34m\u001b[0m\u001b[0;34m\u001b[0m\u001b[0m\n",
      "\u001b[0;32m~/anaconda3/envs/AIconda/lib/python3.6/site-packages/keras/backend/tensorflow_backend.py\u001b[0m in \u001b[0;36m__call__\u001b[0;34m(self, inputs)\u001b[0m\n\u001b[1;32m   2480\u001b[0m         \u001b[0msession\u001b[0m \u001b[0;34m=\u001b[0m \u001b[0mget_session\u001b[0m\u001b[0;34m(\u001b[0m\u001b[0;34m)\u001b[0m\u001b[0;34m\u001b[0m\u001b[0;34m\u001b[0m\u001b[0m\n\u001b[1;32m   2481\u001b[0m         updated = session.run(fetches=fetches, feed_dict=feed_dict,\n\u001b[0;32m-> 2482\u001b[0;31m                               **self.session_kwargs)\n\u001b[0m\u001b[1;32m   2483\u001b[0m         \u001b[0;32mreturn\u001b[0m \u001b[0mupdated\u001b[0m\u001b[0;34m[\u001b[0m\u001b[0;34m:\u001b[0m\u001b[0mlen\u001b[0m\u001b[0;34m(\u001b[0m\u001b[0mself\u001b[0m\u001b[0;34m.\u001b[0m\u001b[0moutputs\u001b[0m\u001b[0;34m)\u001b[0m\u001b[0;34m]\u001b[0m\u001b[0;34m\u001b[0m\u001b[0;34m\u001b[0m\u001b[0m\n\u001b[1;32m   2484\u001b[0m \u001b[0;34m\u001b[0m\u001b[0m\n",
      "\u001b[0;32m~/anaconda3/envs/AIconda/lib/python3.6/site-packages/tensorflow/python/client/session.py\u001b[0m in \u001b[0;36mrun\u001b[0;34m(self, fetches, feed_dict, options, run_metadata)\u001b[0m\n\u001b[1;32m    927\u001b[0m     \u001b[0;32mtry\u001b[0m\u001b[0;34m:\u001b[0m\u001b[0;34m\u001b[0m\u001b[0;34m\u001b[0m\u001b[0m\n\u001b[1;32m    928\u001b[0m       result = self._run(None, fetches, feed_dict, options_ptr,\n\u001b[0;32m--> 929\u001b[0;31m                          run_metadata_ptr)\n\u001b[0m\u001b[1;32m    930\u001b[0m       \u001b[0;32mif\u001b[0m \u001b[0mrun_metadata\u001b[0m\u001b[0;34m:\u001b[0m\u001b[0;34m\u001b[0m\u001b[0;34m\u001b[0m\u001b[0m\n\u001b[1;32m    931\u001b[0m         \u001b[0mproto_data\u001b[0m \u001b[0;34m=\u001b[0m \u001b[0mtf_session\u001b[0m\u001b[0;34m.\u001b[0m\u001b[0mTF_GetBuffer\u001b[0m\u001b[0;34m(\u001b[0m\u001b[0mrun_metadata_ptr\u001b[0m\u001b[0;34m)\u001b[0m\u001b[0;34m\u001b[0m\u001b[0;34m\u001b[0m\u001b[0m\n",
      "\u001b[0;32m~/anaconda3/envs/AIconda/lib/python3.6/site-packages/tensorflow/python/client/session.py\u001b[0m in \u001b[0;36m_run\u001b[0;34m(self, handle, fetches, feed_dict, options, run_metadata)\u001b[0m\n\u001b[1;32m   1150\u001b[0m     \u001b[0;32mif\u001b[0m \u001b[0mfinal_fetches\u001b[0m \u001b[0;32mor\u001b[0m \u001b[0mfinal_targets\u001b[0m \u001b[0;32mor\u001b[0m \u001b[0;34m(\u001b[0m\u001b[0mhandle\u001b[0m \u001b[0;32mand\u001b[0m \u001b[0mfeed_dict_tensor\u001b[0m\u001b[0;34m)\u001b[0m\u001b[0;34m:\u001b[0m\u001b[0;34m\u001b[0m\u001b[0;34m\u001b[0m\u001b[0m\n\u001b[1;32m   1151\u001b[0m       results = self._do_run(handle, final_targets, final_fetches,\n\u001b[0;32m-> 1152\u001b[0;31m                              feed_dict_tensor, options, run_metadata)\n\u001b[0m\u001b[1;32m   1153\u001b[0m     \u001b[0;32melse\u001b[0m\u001b[0;34m:\u001b[0m\u001b[0;34m\u001b[0m\u001b[0;34m\u001b[0m\u001b[0m\n\u001b[1;32m   1154\u001b[0m       \u001b[0mresults\u001b[0m \u001b[0;34m=\u001b[0m \u001b[0;34m[\u001b[0m\u001b[0;34m]\u001b[0m\u001b[0;34m\u001b[0m\u001b[0;34m\u001b[0m\u001b[0m\n",
      "\u001b[0;32m~/anaconda3/envs/AIconda/lib/python3.6/site-packages/tensorflow/python/client/session.py\u001b[0m in \u001b[0;36m_do_run\u001b[0;34m(self, handle, target_list, fetch_list, feed_dict, options, run_metadata)\u001b[0m\n\u001b[1;32m   1326\u001b[0m     \u001b[0;32mif\u001b[0m \u001b[0mhandle\u001b[0m \u001b[0;32mis\u001b[0m \u001b[0;32mNone\u001b[0m\u001b[0;34m:\u001b[0m\u001b[0;34m\u001b[0m\u001b[0;34m\u001b[0m\u001b[0m\n\u001b[1;32m   1327\u001b[0m       return self._do_call(_run_fn, feeds, fetches, targets, options,\n\u001b[0;32m-> 1328\u001b[0;31m                            run_metadata)\n\u001b[0m\u001b[1;32m   1329\u001b[0m     \u001b[0;32melse\u001b[0m\u001b[0;34m:\u001b[0m\u001b[0;34m\u001b[0m\u001b[0;34m\u001b[0m\u001b[0m\n\u001b[1;32m   1330\u001b[0m       \u001b[0;32mreturn\u001b[0m \u001b[0mself\u001b[0m\u001b[0;34m.\u001b[0m\u001b[0m_do_call\u001b[0m\u001b[0;34m(\u001b[0m\u001b[0m_prun_fn\u001b[0m\u001b[0;34m,\u001b[0m \u001b[0mhandle\u001b[0m\u001b[0;34m,\u001b[0m \u001b[0mfeeds\u001b[0m\u001b[0;34m,\u001b[0m \u001b[0mfetches\u001b[0m\u001b[0;34m)\u001b[0m\u001b[0;34m\u001b[0m\u001b[0;34m\u001b[0m\u001b[0m\n",
      "\u001b[0;32m~/anaconda3/envs/AIconda/lib/python3.6/site-packages/tensorflow/python/client/session.py\u001b[0m in \u001b[0;36m_do_call\u001b[0;34m(self, fn, *args)\u001b[0m\n\u001b[1;32m   1332\u001b[0m   \u001b[0;32mdef\u001b[0m \u001b[0m_do_call\u001b[0m\u001b[0;34m(\u001b[0m\u001b[0mself\u001b[0m\u001b[0;34m,\u001b[0m \u001b[0mfn\u001b[0m\u001b[0;34m,\u001b[0m \u001b[0;34m*\u001b[0m\u001b[0margs\u001b[0m\u001b[0;34m)\u001b[0m\u001b[0;34m:\u001b[0m\u001b[0;34m\u001b[0m\u001b[0;34m\u001b[0m\u001b[0m\n\u001b[1;32m   1333\u001b[0m     \u001b[0;32mtry\u001b[0m\u001b[0;34m:\u001b[0m\u001b[0;34m\u001b[0m\u001b[0;34m\u001b[0m\u001b[0m\n\u001b[0;32m-> 1334\u001b[0;31m       \u001b[0;32mreturn\u001b[0m \u001b[0mfn\u001b[0m\u001b[0;34m(\u001b[0m\u001b[0;34m*\u001b[0m\u001b[0margs\u001b[0m\u001b[0;34m)\u001b[0m\u001b[0;34m\u001b[0m\u001b[0;34m\u001b[0m\u001b[0m\n\u001b[0m\u001b[1;32m   1335\u001b[0m     \u001b[0;32mexcept\u001b[0m \u001b[0merrors\u001b[0m\u001b[0;34m.\u001b[0m\u001b[0mOpError\u001b[0m \u001b[0;32mas\u001b[0m \u001b[0me\u001b[0m\u001b[0;34m:\u001b[0m\u001b[0;34m\u001b[0m\u001b[0;34m\u001b[0m\u001b[0m\n\u001b[1;32m   1336\u001b[0m       \u001b[0mmessage\u001b[0m \u001b[0;34m=\u001b[0m \u001b[0mcompat\u001b[0m\u001b[0;34m.\u001b[0m\u001b[0mas_text\u001b[0m\u001b[0;34m(\u001b[0m\u001b[0me\u001b[0m\u001b[0;34m.\u001b[0m\u001b[0mmessage\u001b[0m\u001b[0;34m)\u001b[0m\u001b[0;34m\u001b[0m\u001b[0;34m\u001b[0m\u001b[0m\n",
      "\u001b[0;32m~/anaconda3/envs/AIconda/lib/python3.6/site-packages/tensorflow/python/client/session.py\u001b[0m in \u001b[0;36m_run_fn\u001b[0;34m(feed_dict, fetch_list, target_list, options, run_metadata)\u001b[0m\n\u001b[1;32m   1317\u001b[0m       \u001b[0mself\u001b[0m\u001b[0;34m.\u001b[0m\u001b[0m_extend_graph\u001b[0m\u001b[0;34m(\u001b[0m\u001b[0;34m)\u001b[0m\u001b[0;34m\u001b[0m\u001b[0;34m\u001b[0m\u001b[0m\n\u001b[1;32m   1318\u001b[0m       return self._call_tf_sessionrun(\n\u001b[0;32m-> 1319\u001b[0;31m           options, feed_dict, fetch_list, target_list, run_metadata)\n\u001b[0m\u001b[1;32m   1320\u001b[0m \u001b[0;34m\u001b[0m\u001b[0m\n\u001b[1;32m   1321\u001b[0m     \u001b[0;32mdef\u001b[0m \u001b[0m_prun_fn\u001b[0m\u001b[0;34m(\u001b[0m\u001b[0mhandle\u001b[0m\u001b[0;34m,\u001b[0m \u001b[0mfeed_dict\u001b[0m\u001b[0;34m,\u001b[0m \u001b[0mfetch_list\u001b[0m\u001b[0;34m)\u001b[0m\u001b[0;34m:\u001b[0m\u001b[0;34m\u001b[0m\u001b[0;34m\u001b[0m\u001b[0m\n",
      "\u001b[0;32m~/anaconda3/envs/AIconda/lib/python3.6/site-packages/tensorflow/python/client/session.py\u001b[0m in \u001b[0;36m_call_tf_sessionrun\u001b[0;34m(self, options, feed_dict, fetch_list, target_list, run_metadata)\u001b[0m\n\u001b[1;32m   1405\u001b[0m     return tf_session.TF_SessionRun_wrapper(\n\u001b[1;32m   1406\u001b[0m         \u001b[0mself\u001b[0m\u001b[0;34m.\u001b[0m\u001b[0m_session\u001b[0m\u001b[0;34m,\u001b[0m \u001b[0moptions\u001b[0m\u001b[0;34m,\u001b[0m \u001b[0mfeed_dict\u001b[0m\u001b[0;34m,\u001b[0m \u001b[0mfetch_list\u001b[0m\u001b[0;34m,\u001b[0m \u001b[0mtarget_list\u001b[0m\u001b[0;34m,\u001b[0m\u001b[0;34m\u001b[0m\u001b[0;34m\u001b[0m\u001b[0m\n\u001b[0;32m-> 1407\u001b[0;31m         run_metadata)\n\u001b[0m\u001b[1;32m   1408\u001b[0m \u001b[0;34m\u001b[0m\u001b[0m\n\u001b[1;32m   1409\u001b[0m   \u001b[0;32mdef\u001b[0m \u001b[0m_call_tf_sessionprun\u001b[0m\u001b[0;34m(\u001b[0m\u001b[0mself\u001b[0m\u001b[0;34m,\u001b[0m \u001b[0mhandle\u001b[0m\u001b[0;34m,\u001b[0m \u001b[0mfeed_dict\u001b[0m\u001b[0;34m,\u001b[0m \u001b[0mfetch_list\u001b[0m\u001b[0;34m)\u001b[0m\u001b[0;34m:\u001b[0m\u001b[0;34m\u001b[0m\u001b[0;34m\u001b[0m\u001b[0m\n",
      "\u001b[0;31mKeyboardInterrupt\u001b[0m: "
     ]
    }
   ],
   "source": [
    "for i in range(100):\n",
    "    generator = TextImageGenerator(id_list, my_labs, WIDTH, HEIGHT, BATCH_SIZE, DOWNSAMPLE_FACTOR, NB_MAX_IMAGES)\n",
    "    generator.build_data()\n",
    "\n",
    "    run_name = datetime.datetime.now().strftime('%Y:%m:%d:%H:%M:%S')\n",
    "    test_func = K.function([inputs], [y_pred])  \n",
    "    viz_cb = VizCallback(run_name, test_func, generator.next_batch_val(), min(6, BATCH_SIZE))\n",
    "    \n",
    "    model.fit_generator(generator=generator.next_batch_train(),\n",
    "                        steps_per_epoch=int(generator.n_train / BATCH_SIZE),\n",
    "                        epochs=50,\n",
    "                        callbacks=[viz_cb],\n",
    "                        validation_data=generator.next_batch_val(),\n",
    "                        validation_steps=int(generator.n_val / BATCH_SIZE))\n",
    "    \n",
    "    del generator\n",
    "    del viz_cb\n",
    "    gc.collect()"
   ]
  },
  {
   "cell_type": "markdown",
   "metadata": {},
   "source": [
    "# Save the weights"
   ]
  },
  {
   "cell_type": "code",
   "execution_count": 8,
   "metadata": {},
   "outputs": [],
   "source": [
    "folder = \"../\"\n",
    "model.save_weights(folder + \"weights_crnn.h5.h5\") \n",
    "model.save_weights(OUTPUT_DIR +\"weights.h5\")"
   ]
  },
  {
   "cell_type": "code",
   "execution_count": null,
   "metadata": {},
   "outputs": [],
   "source": []
  }
 ],
 "metadata": {
  "kernelspec": {
   "display_name": "Python 3",
   "language": "python",
   "name": "python3"
  },
  "language_info": {
   "codemirror_mode": {
    "name": "ipython",
    "version": 3
   },
   "file_extension": ".py",
   "mimetype": "text/x-python",
   "name": "python",
   "nbconvert_exporter": "python",
   "pygments_lexer": "ipython3",
   "version": "3.6.7"
  }
 },
 "nbformat": 4,
 "nbformat_minor": 2
}
